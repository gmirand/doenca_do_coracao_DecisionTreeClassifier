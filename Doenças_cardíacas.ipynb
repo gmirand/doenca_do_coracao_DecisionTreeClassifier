{
  "nbformat": 4,
  "nbformat_minor": 0,
  "metadata": {
    "colab": {
      "name": "Doenças cardíacas.ipynb",
      "provenance": []
    },
    "kernelspec": {
      "name": "python3",
      "display_name": "Python 3"
    }
  },
  "cells": [
    {
      "cell_type": "markdown",
      "metadata": {
        "id": "UJJVLYaQhaj_",
        "colab_type": "text"
      },
      "source": [
        "# Doenças do Cardiacas\n",
        "### **Fonte:**\n",
        "\n",
        "**Criadores:**\n",
        "\n",
        "1. Hungarian Institute of Cardiology. Budapest: Andras Janosi, M.D.\n",
        "2. University Hospital, Zurich, Switzerland: William Steinbrunn, M.D.\n",
        "3. University Hospital, Basel, Switzerland: Matthias Pfisterer, M.D.\n",
        "4. V.A. Medical Center, Long Beach and Cleveland Clinic Foundation: Robert Detrano, M.D., Ph.D.\n",
        "\n",
        "\n",
        "**Doador:**\n",
        "\n",
        "David W. Aha (aha '@' ics.uci.edu) (714) 856-8779\n",
        "\n",
        "\n",
        "\n",
        "**Informações do conjunto de dados:**\n",
        "\n",
        "<p>Esse banco de dados contém 76 atributos, mas todas as experiências publicadas se referem ao uso de um subconjunto de 14 deles. Em particular, o banco de dados de Cleveland é o único usado pelos pesquisadores de ML para\n",
        "esta data. O campo \"objetivo\" refere-se à presença de doença cardíaca no paciente. É um número inteiro avaliado de 0 (sem presença) a 4. As experiências com o banco de dados de Cleveland concentraram-se em simplesmente tentar distinguir presença (valores 1,2,3,4) da ausência (valor 0).</p>\n",
        "\n",
        "<p>Os nomes e os números de seguridade social dos pacientes foram removidos recentemente do banco de dados, substituídos por valores fictícios.</p>\n",
        "\n",
        "<p>Um arquivo foi \"processado\", aquele que contém o banco de dados de Cleveland. Todos os quatro arquivos não processados ​​também existem nesse diretório.</p>\n",
        "\n",
        "<p>Para ver os custos de teste (doados por Peter Turney), consulte a pasta \"Custos\"</p>\n",
        "\n",
        "\n",
        "**Informações sobre atributos:**\n",
        "\n",
        "Apenas 14 atributos utilizados:\n",
        "1. 3 (idade)\n",
        "2. 4 (sexo)\n",
        "3. 9 (cp)\n",
        "4. 10 (trestbps)\n",
        "5. 12 (col)\n",
        "6. 16 (fbs)\n",
        "7. 19 (restecg)\n",
        "8. 32 (thalach)\n",
        "9. 38 (exang)\n",
        "10. 40 (pico antigo)\n",
        "11. 41 (inclinação)\n",
        "12. 44 (ca)\n",
        "13. 51 (thal)\n",
        "14. 58 (num) (o atributo previsto)\n"
      ]
    },
    {
      "cell_type": "markdown",
      "metadata": {
        "id": "BGUVVoCzocGv",
        "colab_type": "text"
      },
      "source": [
        "<img src=\"https://www.ictq.com.br/images/COVID-19_causa_inflama%C3%A7%C3%A3o_no_cora%C3%A7%C3%A3o_e_pode_causar_infarto.jpg\" size=\"300x200\"/>"
      ]
    },
    {
      "cell_type": "markdown",
      "metadata": {
        "id": "LdNEwutihFMn",
        "colab_type": "text"
      },
      "source": [
        "\n",
        "https://archive.ics.uci.edu/ml/datasets/Heart+Disease"
      ]
    },
    {
      "cell_type": "code",
      "metadata": {
        "id": "p251j7GlxKTK",
        "colab_type": "code",
        "colab": {}
      },
      "source": [
        "#Importando os módulos\n",
        "import pandas as pd\n",
        "import numpy as np\n",
        "from sklearn.tree import DecisionTreeClassifier\n",
        "from sklearn.ensemble import AdaBoostClassifier\n",
        "from sklearn.datasets import fetch_openml\n",
        "from sklearn.model_selection import cross_val_score"
      ],
      "execution_count": 0,
      "outputs": []
    },
    {
      "cell_type": "code",
      "metadata": {
        "id": "cHEMdWSfzprq",
        "colab_type": "code",
        "colab": {
          "base_uri": "https://localhost:8080/",
          "height": 1000
        },
        "outputId": "3b49d5c8-4e19-4533-96e1-f93f2895c426"
      },
      "source": [
        "#carregando os dados\n",
        "heart = fetch_openml('heart')\n",
        "heart"
      ],
      "execution_count": 5,
      "outputs": [
        {
          "output_type": "execute_result",
          "data": {
            "text/plain": [
              "{'DESCR': '**Author**: Laboratory of Artificial Intelligence and Computer Science of the University of Porto (LIACC)  \\nlibSVM\",\"AAD group  \\n**Source**: [original](http://www.csie.ntu.edu.tw/~cjlin/libsvmtools/datasets/binary.html) - Date unknown  \\n**Please cite**:   \\n\\n#Dataset from the LIBSVM data repository.\\n\\nPreprocessing: scaled to [-1,1]\\n\\nDownloaded from openml.org.',\n",
              " 'categories': {},\n",
              " 'data': <270x13 sparse matrix of type '<class 'numpy.float64'>'\n",
              " \twith 3378 stored elements in Compressed Sparse Row format>,\n",
              " 'details': {'contributor': ['libSVM', 'AAD group'],\n",
              "  'creator': 'Laboratory of Artificial Intelligence and Computer Science of the University of Porto (LIACC)',\n",
              "  'default_target_attribute': 'class',\n",
              "  'file_id': '1594038',\n",
              "  'format': 'Sparse_ARFF',\n",
              "  'id': '1574',\n",
              "  'licence': 'Public',\n",
              "  'md5_checksum': 'f50ad5f44a5aa587e7f3794007182eb2',\n",
              "  'name': 'heart',\n",
              "  'original_data_url': 'http://www.csie.ntu.edu.tw/~cjlin/libsvmtools/datasets/binary.html',\n",
              "  'processing_date': '2018-10-03 21:40:10',\n",
              "  'status': 'active',\n",
              "  'upload_date': '2015-06-02T11:29:13',\n",
              "  'url': 'https://www.openml.org/data/v1/download/1594038/heart.sparse_arff',\n",
              "  'version': '1',\n",
              "  'visibility': 'public'},\n",
              " 'feature_names': ['att_1',\n",
              "  'att_2',\n",
              "  'att_3',\n",
              "  'att_4',\n",
              "  'att_5',\n",
              "  'att_6',\n",
              "  'att_7',\n",
              "  'att_8',\n",
              "  'att_9',\n",
              "  'att_10',\n",
              "  'att_11',\n",
              "  'att_12',\n",
              "  'att_13'],\n",
              " 'frame': None,\n",
              " 'target': array([ 1., -1.,  1., -1., -1., -1.,  1.,  1.,  1.,  1., -1., -1., -1.,\n",
              "         1., -1., -1.,  1.,  1., -1., -1.,  1., -1., -1., -1., -1., -1.,\n",
              "        -1., -1.,  1., -1.,  1., -1., -1.,  1.,  1.,  1.,  1.,  1., -1.,\n",
              "        -1.,  1., -1., -1., -1.,  1., -1.,  1.,  1.,  1.,  1.,  1., -1.,\n",
              "        -1., -1., -1., -1.,  1., -1.,  1.,  1., -1.,  1., -1., -1., -1.,\n",
              "         1., -1.,  1., -1.,  1.,  1., -1., -1., -1., -1.,  1., -1., -1.,\n",
              "        -1., -1.,  1.,  1.,  1., -1., -1., -1., -1., -1., -1.,  1., -1.,\n",
              "         1.,  1.,  1.,  1.,  1., -1.,  1., -1., -1., -1.,  1., -1.,  1.,\n",
              "         1.,  1., -1.,  1.,  1., -1.,  1., -1.,  1., -1., -1., -1.,  1.,\n",
              "         1., -1.,  1.,  1.,  1.,  1., -1., -1., -1.,  1., -1., -1.,  1.,\n",
              "         1.,  1., -1.,  1., -1., -1., -1.,  1., -1., -1.,  1., -1.,  1.,\n",
              "        -1.,  1.,  1.,  1.,  1.,  1., -1., -1., -1., -1., -1., -1., -1.,\n",
              "         1., -1., -1.,  1.,  1.,  1., -1.,  1., -1., -1., -1., -1., -1.,\n",
              "         1., -1.,  1.,  1., -1., -1.,  1.,  1.,  1.,  1., -1., -1.,  1.,\n",
              "         1., -1., -1., -1.,  1., -1., -1.,  1., -1.,  1., -1.,  1., -1.,\n",
              "        -1., -1., -1., -1.,  1., -1.,  1.,  1.,  1.,  1., -1., -1., -1.,\n",
              "         1., -1.,  1., -1., -1.,  1., -1., -1., -1., -1., -1., -1.,  1.,\n",
              "         1., -1.,  1., -1., -1.,  1.,  1., -1., -1.,  1.,  1., -1.,  1.,\n",
              "        -1.,  1., -1.,  1., -1., -1.,  1., -1., -1.,  1., -1.,  1.,  1.,\n",
              "        -1.,  1.,  1.,  1., -1.,  1., -1., -1., -1., -1.,  1.,  1., -1.,\n",
              "        -1.,  1.,  1., -1.,  1., -1., -1., -1., -1.,  1.]),\n",
              " 'target_names': ['class'],\n",
              " 'url': 'https://www.openml.org/d/1574'}"
            ]
          },
          "metadata": {
            "tags": []
          },
          "execution_count": 5
        }
      ]
    },
    {
      "cell_type": "code",
      "metadata": {
        "id": "CTnnlfbjtBIQ",
        "colab_type": "code",
        "colab": {}
      },
      "source": [
        "X = heart.data\n",
        "y = np.copy(heart.target)\n",
        "y[y == -1] = 0"
      ],
      "execution_count": 0,
      "outputs": []
    },
    {
      "cell_type": "code",
      "metadata": {
        "id": "9UcGUWBZtjPG",
        "colab_type": "code",
        "colab": {}
      },
      "source": [
        "#datasets de treino \n",
        "X_test, y_test = X[189:], y[189:]\n",
        "X_train, y_train = X[:189], y[:189]"
      ],
      "execution_count": 0,
      "outputs": []
    },
    {
      "cell_type": "code",
      "metadata": {
        "id": "5P50BoJ_ujXr",
        "colab_type": "code",
        "colab": {}
      },
      "source": [
        "#conctruindo o estimador base\n",
        "\n",
        "estim_base = DecisionTreeClassifier(max_depth=1, min_samples_leaf=1)\n",
        "SEED = 15"
      ],
      "execution_count": 0,
      "outputs": []
    },
    {
      "cell_type": "code",
      "metadata": {
        "id": "QnyurIBfu2DT",
        "colab_type": "code",
        "colab": {}
      },
      "source": [
        "#Construindo a primeira versão do modelo Adaboost\n",
        "ada_clf_vl = AdaBoostClassifier(base_estimator=estim_base,\n",
        "                                learning_rate = 0.1,\n",
        "                                n_estimators = 400,\n",
        "                                algorithm= 'SAMME',\n",
        "                                random_state=SEED)"
      ],
      "execution_count": 0,
      "outputs": []
    },
    {
      "cell_type": "code",
      "metadata": {
        "id": "aCnl5tFlvXwv",
        "colab_type": "code",
        "colab": {
          "base_uri": "https://localhost:8080/",
          "height": 289
        },
        "outputId": "af638512-8b5a-4566-a266-90a528537822"
      },
      "source": [
        "#treinamento do modelo\n",
        "ada_clf_vl.fit(X_train, y_train)"
      ],
      "execution_count": 25,
      "outputs": [
        {
          "output_type": "execute_result",
          "data": {
            "text/plain": [
              "AdaBoostClassifier(algorithm='SAMME',\n",
              "                   base_estimator=DecisionTreeClassifier(ccp_alpha=0.0,\n",
              "                                                         class_weight=None,\n",
              "                                                         criterion='gini',\n",
              "                                                         max_depth=1,\n",
              "                                                         max_features=None,\n",
              "                                                         max_leaf_nodes=None,\n",
              "                                                         min_impurity_decrease=0.0,\n",
              "                                                         min_impurity_split=None,\n",
              "                                                         min_samples_leaf=1,\n",
              "                                                         min_samples_split=2,\n",
              "                                                         min_weight_fraction_leaf=0.0,\n",
              "                                                         presort='deprecated',\n",
              "                                                         random_state=None,\n",
              "                                                         splitter='best'),\n",
              "                   learning_rate=0.1, n_estimators=400, random_state=15)"
            ]
          },
          "metadata": {
            "tags": []
          },
          "execution_count": 25
        }
      ]
    },
    {
      "cell_type": "code",
      "metadata": {
        "id": "xkK5qwxMwrjw",
        "colab_type": "code",
        "colab": {
          "base_uri": "https://localhost:8080/",
          "height": 51
        },
        "outputId": "cd1cd653-7daf-4e71-cb8f-9e2f47cfce30"
      },
      "source": [
        "#Score\n",
        "scores = cross_val_score(ada_clf_vl, X_test, y_test)\n",
        "print(scores)\n",
        "means = scores.mean()\n",
        "print(means)"
      ],
      "execution_count": 26,
      "outputs": [
        {
          "output_type": "stream",
          "text": [
            "[0.88235294 0.9375     0.875      0.75       0.6875    ]\n",
            "0.8264705882352942\n"
          ],
          "name": "stdout"
        }
      ]
    },
    {
      "cell_type": "code",
      "metadata": {
        "id": "-VK120w-yC1b",
        "colab_type": "code",
        "colab": {}
      },
      "source": [
        ""
      ],
      "execution_count": 0,
      "outputs": []
    }
  ]
}